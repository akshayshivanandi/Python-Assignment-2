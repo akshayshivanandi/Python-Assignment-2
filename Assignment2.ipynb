{
 "cells": [
  {
   "cell_type": "markdown",
   "id": "1ce18637",
   "metadata": {},
   "source": [
    "1.What are the two values of the Boolean data type? How do you write them?"
   ]
  },
  {
   "cell_type": "raw",
   "id": "134ea1f5",
   "metadata": {},
   "source": [
    "Two values of Boolean data type are True and False, they are generally used to evaluate the expressions. Most of the values are evaluated True if there exists some value/character in it(except 0).\n",
    "Ex: bool(15),bool('Python'),bool(['Honey',112]) gives True\n",
    "    bool(0),bool({}) gives False"
   ]
  },
  {
   "cell_type": "markdown",
   "id": "0cfe1583",
   "metadata": {},
   "source": [
    "2. What are the three different types of Boolean operators?"
   ]
  },
  {
   "cell_type": "raw",
   "id": "19fc1f62",
   "metadata": {},
   "source": [
    "Logical Operators:\n",
    "    and, or, not"
   ]
  },
  {
   "cell_type": "markdown",
   "id": "79cac746",
   "metadata": {},
   "source": [
    "3. Make a list of each Boolean operator's truth tables (i.e. every possible combination of Boolean values for the operator and what it evaluate )."
   ]
  },
  {
   "cell_type": "raw",
   "id": "4cfc65e3",
   "metadata": {},
   "source": [
    "Truth table for and operator:\n",
    "    A\tB\tA and B\n",
    "    T\tT\t  T\n",
    "    T\tF\t  F\n",
    "    F\tT\t  F\n",
    "    F\tF\t  F\n",
    "\n",
    "Truth table for or operator:\n",
    "    A\tB\tA or B\n",
    "    T\tT\t  T\n",
    "    T\tF\t  T\n",
    "    F\tT\t  T\n",
    "    F\tF\t  F\n",
    "    \n",
    "Truth table for not operator:\n",
    "    A\tnot A\n",
    "    T\t  F\n",
    "    F\t  T\n"
   ]
  },
  {
   "cell_type": "raw",
   "id": "46a02dd0",
   "metadata": {},
   "source": [
    "4. What are the values of the following expressions?\n",
    "(5 > 4) and (3 == 5) - False\n",
    "not (5 > 4) - False\n",
    "(5 > 4) or (3 == 5) - True\n",
    "not ((5 > 4) or (3 == 5)) - False\n",
    "(True and True) and (True == False) -False\n",
    "(not False) or (not True) - True"
   ]
  },
  {
   "cell_type": "markdown",
   "id": "e09e1ff1",
   "metadata": {},
   "source": [
    "5. What are the six comparison operators?"
   ]
  },
  {
   "cell_type": "raw",
   "id": "70d227b1",
   "metadata": {},
   "source": [
    "Comparision Operators:\n",
    "    Less than                 < \n",
    "    Less than or equal to     <=\n",
    "    Greater than              >\n",
    "    Greater than or equal to  >=\n",
    "    Equal to                  ==\n",
    "    Not equal to              !="
   ]
  },
  {
   "cell_type": "markdown",
   "id": "5ee6dce2",
   "metadata": {},
   "source": [
    "6. How do you tell the difference between the equal to and assignment operators?Describe a condition and when you would use one."
   ]
  },
  {
   "cell_type": "raw",
   "id": "8742c019",
   "metadata": {},
   "source": [
    "Assignment operators are used to assign values to variables whereas Equal to is used as comparision operator to compare between 2 values.\n",
    "\n",
    "Ex: x=2 & x+=2 are examples of assignment operators where values are assigned to x\n",
    "    4==5 & 5==5 are examples of comparision operator(equal to)"
   ]
  },
  {
   "cell_type": "raw",
   "id": "53ec4294",
   "metadata": {},
   "source": [
    "7. Identify the three blocks in this code:\n",
    "spam = 0\n",
    "[if spam == 10: \n",
    "print('eggs')]  -------Block-1\n",
    "[if spam > 5:\n",
    "print('bacon')] -------Block-2\n",
    "[else:\n",
    "print('ham')\n",
    "print('spam')\n",
    "print('spam')]  -------Block-3"
   ]
  },
  {
   "cell_type": "markdown",
   "id": "3463aa05",
   "metadata": {},
   "source": [
    "8. Write code that prints Hello if 1 is stored in spam, prints Howdy if 2 is stored in spam, and prints Greetings! if anything else is stored in spam.\n"
   ]
  },
  {
   "cell_type": "code",
   "execution_count": 35,
   "id": "2876e962",
   "metadata": {},
   "outputs": [
    {
     "name": "stdout",
     "output_type": "stream",
     "text": [
      "Enter any value: 8522\n",
      "Greetings!\n"
     ]
    }
   ],
   "source": [
    "x=int(input(\"Enter any value: \"))\n",
    "\n",
    "if x==1:\n",
    "    print(\"Hello\")\n",
    "elif x==2:\n",
    "    print(\"Howdy\")\n",
    "else:\n",
    "    print(\"Greetings!\")"
   ]
  },
  {
   "cell_type": "markdown",
   "id": "25268931",
   "metadata": {},
   "source": [
    "9.If your programme is stuck in an endless loop, what keys you’ll press?"
   ]
  },
  {
   "cell_type": "raw",
   "id": "b7fe73a6",
   "metadata": {},
   "source": [
    "If the program stucks in endless loop then we have to either interrupt or restart the kernel. It is better to Restart the kernel."
   ]
  },
  {
   "cell_type": "markdown",
   "id": "e3e35eda",
   "metadata": {},
   "source": [
    "10.How can you tell the difference between break and continue?"
   ]
  },
  {
   "cell_type": "raw",
   "id": "9dd42638",
   "metadata": {},
   "source": [
    "Break statement is used to terminate the loop, if the condition above it is satisfied and comes out of the loop after break statement and ends if there is no further loops.\n",
    "\n",
    "Continue statement is different from break, as continue it allows to execute the next statement by skipping the present condition."
   ]
  },
  {
   "cell_type": "markdown",
   "id": "cef903f4",
   "metadata": {},
   "source": [
    "11. In a for loop, what is the difference between range(10), range(0, 10), and range(0, 10, 1)?"
   ]
  },
  {
   "cell_type": "raw",
   "id": "52953025",
   "metadata": {},
   "source": [
    "There is no difference in range(10),range(0,10) and range(0,10,1), as all these gives values starting from 0 to 9.\n",
    "range(10)-Here 10 represents the upper bound and it is excluded automatically, 0 is considered as lower bound if nothing mentioned.\n",
    "range(0,10)-Here 0 represents lower bound and 10 represents upper bound.\n",
    "range(0,10,1)-Here 0 represents lower bound and 10 represents upper bound and 1 is step size"
   ]
  },
  {
   "cell_type": "markdown",
   "id": "5819278b",
   "metadata": {},
   "source": [
    "12. Write a short program that prints the numbers 1 to 10 using a for loop. Then write an equivalent program that prints the numbers 1 to 10 using a while loop."
   ]
  },
  {
   "cell_type": "code",
   "execution_count": 24,
   "id": "98440c61",
   "metadata": {},
   "outputs": [
    {
     "name": "stdout",
     "output_type": "stream",
     "text": [
      "1\n",
      "2\n",
      "3\n",
      "4\n",
      "5\n",
      "6\n",
      "7\n",
      "8\n",
      "9\n",
      "10\n"
     ]
    }
   ],
   "source": [
    "for i in range(1,11):\n",
    "    print(i)\n",
    "    "
   ]
  },
  {
   "cell_type": "code",
   "execution_count": 22,
   "id": "345c944b",
   "metadata": {},
   "outputs": [
    {
     "name": "stdout",
     "output_type": "stream",
     "text": [
      "1\n",
      "2\n",
      "3\n",
      "4\n",
      "5\n",
      "6\n",
      "7\n",
      "8\n",
      "9\n",
      "10\n"
     ]
    }
   ],
   "source": [
    "i=1\n",
    "while i<=len(range(10)):\n",
    "    print(i)\n",
    "    i+=1"
   ]
  },
  {
   "cell_type": "markdown",
   "id": "79e70517",
   "metadata": {},
   "source": [
    "13. If you had a function named bacon() inside a module named spam, how would you call it after importing spam?"
   ]
  },
  {
   "cell_type": "raw",
   "id": "a42cbc4b",
   "metadata": {},
   "source": [
    "spam.bacon()"
   ]
  }
 ],
 "metadata": {
  "kernelspec": {
   "display_name": "Python 3 (ipykernel)",
   "language": "python",
   "name": "python3"
  },
  "language_info": {
   "codemirror_mode": {
    "name": "ipython",
    "version": 3
   },
   "file_extension": ".py",
   "mimetype": "text/x-python",
   "name": "python",
   "nbconvert_exporter": "python",
   "pygments_lexer": "ipython3",
   "version": "3.9.12"
  }
 },
 "nbformat": 4,
 "nbformat_minor": 5
}
